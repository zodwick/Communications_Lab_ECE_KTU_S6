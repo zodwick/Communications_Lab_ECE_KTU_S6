{
 "cells": [
  {
   "cell_type": "code",
   "execution_count": null,
   "metadata": {},
   "outputs": [],
   "source": [
    "# APSK\n",
    "\n",
    "import numpy as np\n",
    "import matplotlib.pyplot as plt\n",
    "from scipy import signal\n",
    "\n",
    "f = 500 * 1000  # 500 kHz\n",
    "\n",
    "t = np.arange(0, 1e-5, 1e-8)\n",
    "ip = signal.square(2 * np.pi * f * t)\n",
    "\n",
    "op = np.zeros_like(ip)\n",
    "\n",
    "for i in range(0, len(ip)):\n",
    "    if ip[i] == 1:\n",
    "        op[i] = np.cos(10 * np.pi * f * t[i])\n",
    "    else:\n",
    "        op[i] = 1.5 * np.cos(10 * np.pi * f * t[i])\n",
    "\n",
    "plt.plot(t, ip)\n",
    "plt.plot(t, op)\n",
    "plt.show()\n"
   ]
  },
  {
   "cell_type": "code",
   "execution_count": null,
   "metadata": {},
   "outputs": [],
   "source": [
    "# APSK but better\n",
    "import matplotlib.pyplot as plt\n",
    "import numpy as np\n",
    "\n",
    "\n",
    "# fig, (ax1, ax2) = plt.subplots(2, 1, figsize=(10, 5))\n",
    "# fig.subplots_adjust(hspace=0.4)\n",
    "\n",
    "t = np.arange(0, 2, 0.001)\n",
    "print(len(t))\n",
    "symbols = (np.random.randint(0, 2, 20)+1)\n",
    "print(symbols)\n",
    "train = np.repeat(symbols, 100)\n",
    "print(len(symbols))\n",
    "print(train)\n",
    "print(len(train))\n",
    "\n",
    "# plt.plot(t, symbols)\n",
    "\n",
    "f = 10\n",
    "x = np.sin(2*np.pi*f*t)*train\n",
    "plt.plot(t, x)\n",
    "\n",
    "\n",
    "plt.show()"
   ]
  }
 ],
 "metadata": {
  "language_info": {
   "name": "python"
  }
 },
 "nbformat": 4,
 "nbformat_minor": 2
}
